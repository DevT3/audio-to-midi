{
 "cells": [
  {
   "cell_type": "code",
   "execution_count": 1,
   "metadata": {},
   "outputs": [],
   "source": [
    "%load_ext autoreload\n",
    "%autoreload 2"
   ]
  },
  {
   "cell_type": "code",
   "execution_count": 2,
   "metadata": {},
   "outputs": [
    {
     "name": "stderr",
     "output_type": "stream",
     "text": [
      "Using TensorFlow backend.\n"
     ]
    }
   ],
   "source": [
    "from keras.callbacks import EarlyStopping, ModelCheckpoint, TensorBoard\n",
    "from keras.layers import Activation, Dense, Dropout, Conv2D, MaxPooling2D, Flatten\n",
    "from keras.models import Sequential\n",
    "from keras.utils import normalize, to_categorical\n",
    "from keras.optimizers import Adam\n",
    "\n",
    "from sklearn.preprocessing import LabelEncoder\n",
    "\n",
    "import joblib\n",
    "\n",
    "import pandas as pd\n",
    "import numpy as np\n",
    "\n",
    "from pathlib import Path"
   ]
  },
  {
   "cell_type": "markdown",
   "metadata": {},
   "source": [
    "# Prepare Data"
   ]
  },
  {
   "cell_type": "markdown",
   "metadata": {},
   "source": [
    "## Paths"
   ]
  },
  {
   "cell_type": "code",
   "execution_count": 4,
   "metadata": {},
   "outputs": [],
   "source": [
    "train_data_path = Path('data/features/train_chroma_stft.joblib')\n",
    "valid_data_path = Path('data/features/valid_chroma_stft.joblib')\n",
    "test_data_path = Path('data/features/test_chroma_stft.joblib')\n",
    "train_names_path = Path('data/features/train_name.joblib')\n",
    "valid_names_path = Path('data/features/valid_name.joblib')\n",
    "test_names_path = Path('data/features/test_name.joblib')\n",
    "train_metadata_path = Path('data/nsynth-train/examples.json')\n",
    "valid_metadata_path = Path('data/nsynth-valid/examples.json')\n",
    "test_metadata_path = Path('data/nsynth-test/examples.json')"
   ]
  },
  {
   "cell_type": "markdown",
   "metadata": {},
   "source": [
    "## Helpers"
   ]
  },
  {
   "cell_type": "code",
   "execution_count": 5,
   "metadata": {},
   "outputs": [],
   "source": [
    "def encode_classes(metadata_paths):\n",
    "    \n",
    "    df = pd.read_json(metadata_paths[0], orient='index')\n",
    "    \n",
    "    for mdp in metadata_paths[1:]:\n",
    "        df = df.append(pd.read_json(mdp, orient='index'))\n",
    "        \n",
    "    target = df['instrument_family_str'] + '_' + df['pitch'].astype('str')\n",
    "    \n",
    "    encoder = LabelEncoder()\n",
    "    encoder.fit(target)\n",
    "    \n",
    "    return encoder\n"
   ]
  },
  {
   "cell_type": "code",
   "execution_count": 6,
   "metadata": {},
   "outputs": [],
   "source": [
    "def prepare_data(data_path, names_path, metadata_path, encoder):\n",
    "    \n",
    "    data = joblib.load(data_path)\n",
    "    names = joblib.load(names_path)\n",
    "    metadata = pd.read_json(metadata_path, orient='index')\n",
    "    \n",
    "    df = pd.DataFrame({}, index=names).merge(metadata, how='left', left_index=True, right_index=True)\n",
    "    target = df['instrument_family_str'] + '_' + df['pitch'].astype('str')\n",
    "    target_enc = encoder.transform(target)\n",
    "    \n",
    "    X = data.reshape(data.shape + (1,))\n",
    "    y = to_categorical(target_enc, len(encoder.classes_))\n",
    "    \n",
    "    return X, y"
   ]
  },
  {
   "cell_type": "markdown",
   "metadata": {},
   "source": [
    "## Load datasets"
   ]
  },
  {
   "cell_type": "code",
   "execution_count": 7,
   "metadata": {},
   "outputs": [],
   "source": [
    "metadata_paths = [train_metadata_path, valid_metadata_path, test_metadata_path]\n",
    "encoder = encode_classes(metadata_paths)"
   ]
  },
  {
   "cell_type": "code",
   "execution_count": 8,
   "metadata": {},
   "outputs": [],
   "source": [
    "X_train, y_train = prepare_data(train_data_path, train_names_path, train_metadata_path, encoder)\n",
    "X_valid, y_valid = prepare_data(valid_data_path, valid_names_path, valid_metadata_path, encoder)\n",
    "X_test, y_test = prepare_data(test_data_path, test_names_path, test_metadata_path, encoder)"
   ]
  },
  {
   "cell_type": "code",
   "execution_count": 9,
   "metadata": {},
   "outputs": [
    {
     "data": {
      "text/plain": [
       "((289205, 50, 94, 1), (289205, 1098))"
      ]
     },
     "execution_count": 9,
     "metadata": {},
     "output_type": "execute_result"
    }
   ],
   "source": [
    "X_train.shape, y_train.shape"
   ]
  },
  {
   "cell_type": "code",
   "execution_count": 10,
   "metadata": {},
   "outputs": [
    {
     "data": {
      "text/plain": [
       "((12678, 50, 94, 1), (12678, 1098))"
      ]
     },
     "execution_count": 10,
     "metadata": {},
     "output_type": "execute_result"
    }
   ],
   "source": [
    "X_valid.shape, y_valid.shape"
   ]
  },
  {
   "cell_type": "code",
   "execution_count": 11,
   "metadata": {},
   "outputs": [
    {
     "data": {
      "text/plain": [
       "((4096, 50, 94, 1), (4096, 1098))"
      ]
     },
     "execution_count": 11,
     "metadata": {},
     "output_type": "execute_result"
    }
   ],
   "source": [
    "X_test.shape, y_test.shape"
   ]
  },
  {
   "cell_type": "markdown",
   "metadata": {},
   "source": [
    "# Model"
   ]
  },
  {
   "cell_type": "markdown",
   "metadata": {},
   "source": [
    "## Parameters"
   ]
  },
  {
   "cell_type": "code",
   "execution_count": 12,
   "metadata": {},
   "outputs": [],
   "source": [
    "num_classes = len(encoder.classes_)\n",
    "input_shape = X_train[0].shape\n",
    "epochs=200\n",
    "batch_size=128"
   ]
  },
  {
   "cell_type": "markdown",
   "metadata": {},
   "source": [
    "## Model Build"
   ]
  },
  {
   "cell_type": "code",
   "execution_count": 13,
   "metadata": {},
   "outputs": [],
   "source": [
    "model = Sequential()\n",
    "model.add(Conv2D(32, kernel_size=(3, 3),\n",
    "                 activation='relu',\n",
    "                 input_shape=input_shape))\n",
    "model.add(Conv2D(64, (3, 3), activation='relu'))\n",
    "model.add(MaxPooling2D(pool_size=(2, 2)))\n",
    "model.add(Dropout(0.25))\n",
    "model.add(Flatten())\n",
    "model.add(Dense(128, activation='relu'))\n",
    "model.add(Dropout(0.5))\n",
    "model.add(Dense(num_classes, activation='softmax'))"
   ]
  },
  {
   "cell_type": "code",
   "execution_count": 14,
   "metadata": {},
   "outputs": [
    {
     "name": "stdout",
     "output_type": "stream",
     "text": [
      "_________________________________________________________________\n",
      "Layer (type)                 Output Shape              Param #   \n",
      "=================================================================\n",
      "conv2d_1 (Conv2D)            (None, 48, 92, 32)        320       \n",
      "_________________________________________________________________\n",
      "conv2d_2 (Conv2D)            (None, 46, 90, 64)        18496     \n",
      "_________________________________________________________________\n",
      "max_pooling2d_1 (MaxPooling2 (None, 23, 45, 64)        0         \n",
      "_________________________________________________________________\n",
      "dropout_1 (Dropout)          (None, 23, 45, 64)        0         \n",
      "_________________________________________________________________\n",
      "flatten_1 (Flatten)          (None, 66240)             0         \n",
      "_________________________________________________________________\n",
      "dense_1 (Dense)              (None, 128)               8478848   \n",
      "_________________________________________________________________\n",
      "dropout_2 (Dropout)          (None, 128)               0         \n",
      "_________________________________________________________________\n",
      "dense_2 (Dense)              (None, 1098)              141642    \n",
      "=================================================================\n",
      "Total params: 8,639,306\n",
      "Trainable params: 8,639,306\n",
      "Non-trainable params: 0\n",
      "_________________________________________________________________\n"
     ]
    }
   ],
   "source": [
    "model.compile(loss='categorical_crossentropy',\n",
    "              optimizer='Adadelta',\n",
    "              metrics=['accuracy'])\n",
    "model.summary()"
   ]
  },
  {
   "cell_type": "code",
   "execution_count": 15,
   "metadata": {},
   "outputs": [
    {
     "name": "stdout",
     "output_type": "stream",
     "text": [
      "Previous logs cleared.\n",
      "Log dir: /home/emredjan/stack/data/audio-to-midi/logs\n"
     ]
    }
   ],
   "source": [
    "filepath = 'weights/weights-improvement-{epoch:02d}-{loss:.4f}-bigger.hdf5'\n",
    "\n",
    "checkpoint = ModelCheckpoint(filepath, save_best_only=True)\n",
    "\n",
    "earlystopping = EarlyStopping(patience=5)\n",
    "\n",
    "log_dir = Path('./logs')\n",
    "try:\n",
    "    for log in log_dir.glob('events.out.*'):\n",
    "        log.unlink()\n",
    "    print('Previous logs cleared.')\n",
    "except Exception:\n",
    "    print('Error cleaning previous logs.')\n",
    "\n",
    "tensorboard = TensorBoard(log_dir=str(log_dir), update_freq=1000)\n",
    "print('Log dir:', str(log_dir.absolute()))\n",
    "\n",
    "callbacks_list = [checkpoint, earlystopping, tensorboard]"
   ]
  },
  {
   "cell_type": "code",
   "execution_count": null,
   "metadata": {},
   "outputs": [
    {
     "name": "stdout",
     "output_type": "stream",
     "text": [
      "Train on 289205 samples, validate on 12678 samples\n",
      "Epoch 1/200\n",
      "289205/289205 [==============================] - 146s 503us/step - loss: 3.5508 - acc: 0.1828 - val_loss: 2.3397 - val_acc: 0.3131\n",
      "Epoch 2/200\n",
      "289205/289205 [==============================] - 138s 477us/step - loss: 2.5293 - acc: 0.3307 - val_loss: 2.0201 - val_acc: 0.4027\n",
      "Epoch 3/200\n",
      "289205/289205 [==============================] - 137s 473us/step - loss: 2.2037 - acc: 0.4072 - val_loss: 1.8513 - val_acc: 0.4499\n",
      "Epoch 4/200\n",
      "  2048/289205 [..............................] - ETA: 2:15 - loss: 2.0560 - acc: 0.4370"
     ]
    }
   ],
   "source": [
    "model.fit(X_train, \n",
    "          y_train, \n",
    "          epochs=epochs, \n",
    "          batch_size=batch_size, \n",
    "          callbacks=callbacks_list, \n",
    "          validation_data=(X_valid, y_valid), \n",
    "          verbose=1)"
   ]
  }
 ],
 "metadata": {
  "kernelspec": {
   "display_name": "Python [conda env:audiomidi]",
   "language": "python",
   "name": "conda-env-audiomidi-py"
  },
  "language_info": {
   "codemirror_mode": {
    "name": "ipython",
    "version": 3
   },
   "file_extension": ".py",
   "mimetype": "text/x-python",
   "name": "python",
   "nbconvert_exporter": "python",
   "pygments_lexer": "ipython3",
   "version": "3.6.8"
  }
 },
 "nbformat": 4,
 "nbformat_minor": 2
}
